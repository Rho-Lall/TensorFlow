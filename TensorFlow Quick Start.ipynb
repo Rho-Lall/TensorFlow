{
 "cells": [
  {
   "cell_type": "code",
   "execution_count": 4,
   "id": "8977a126",
   "metadata": {},
   "outputs": [
    {
     "name": "stdout",
     "output_type": "stream",
     "text": [
      "Tensor Flow Version: 2.8.0\n",
      "Kerkas Version: 2.8.0\n",
      "\n",
      "Python 3.8.11 (default, Aug 16 2021, 12:04:33) \n",
      "[Clang 12.0.0 ]\n",
      "Scikit-Learn 1.0.2\n",
      "GPU is  available\n",
      "[PhysicalDevice(name='/physical_device:CPU:0', device_type='CPU'), PhysicalDevice(name='/physical_device:GPU:0', device_type='GPU')]\n"
     ]
    }
   ],
   "source": [
    "import sys\n",
    "\n",
    "import numpy as np\n",
    "import pandas as pd\n",
    "import sklearn as sk\n",
    "import tensorflow.keras\n",
    "import tensorflow as tf\n",
    "import matplotlib.pyplot as plt\n",
    "\n",
    "# See versions\n",
    "print(f\"Tensor Flow Version: {tf.__version__}\")\n",
    "print(f\"Kerkas Version: {tensorflow.keras.__version__}\")\n",
    "print()\n",
    "print(f\"Python {sys.version}\")\n",
    "print(f\"Scikit-Learn {sk.__version__}\")\n",
    "\n",
    "# Check for TensorFlow GPU access\n",
    "gpu = len(tf.config.list_physical_devices('GPU'))>0\n",
    "print(\"GPU is \", \"available\" if gpu else \"NOT AVAIALBLE\")\n",
    "print(tf.config.list_physical_devices())"
   ]
  },
  {
   "cell_type": "code",
   "execution_count": 5,
   "id": "6d6f36a1",
   "metadata": {},
   "outputs": [
    {
     "name": "stdout",
     "output_type": "stream",
     "text": [
      "Downloading data from https://storage.googleapis.com/tensorflow/tf-keras-datasets/mnist.npz\n",
      "11493376/11490434 [==============================] - 1s 0us/step\n",
      "11501568/11490434 [==============================] - 1s 0us/step\n"
     ]
    }
   ],
   "source": [
    "mnist = tf.keras.datasets.mnist\n",
    "\n",
    "(x_train, y_train), (x_test, y_test) = mnist.load_data()\n",
    "x_train, x_test = x_train / 255.0, x_test / 255.0"
   ]
  },
  {
   "cell_type": "code",
   "execution_count": 23,
   "id": "80313734",
   "metadata": {},
   "outputs": [],
   "source": [
    "model = tf.keras.models.Sequential([\n",
    "  tf.keras.layers.Flatten(input_shape=(28, 28)),\n",
    "  tf.keras.layers.Dense(128, activation='relu'),\n",
    "  tf.keras.layers.Dropout(0.2),\n",
    "  tf.keras.layers.Dense(10)\n",
    "])"
   ]
  },
  {
   "cell_type": "code",
   "execution_count": 11,
   "id": "af359cd0",
   "metadata": {},
   "outputs": [
    {
     "data": {
      "text/plain": [
       "array([[ 0.3432305 ,  0.44998842, -0.2050588 , -0.14185855, -0.5354118 ,\n",
       "         0.3411888 , -0.16038626, -0.21683082, -0.2064195 , -1.4316244 ]],\n",
       "      dtype=float32)"
      ]
     },
     "execution_count": 11,
     "metadata": {},
     "output_type": "execute_result"
    }
   ],
   "source": [
    "predictions = model(x_train[:1]).numpy()\n",
    "predictions"
   ]
  },
  {
   "cell_type": "code",
   "execution_count": 12,
   "id": "d5b4a6e1",
   "metadata": {},
   "outputs": [
    {
     "data": {
      "text/plain": [
       "array([[0.15056325, 0.16752645, 0.08701617, 0.09269312, 0.06253591,\n",
       "        0.15025616, 0.09099153, 0.08599783, 0.08689785, 0.02552168]],\n",
       "      dtype=float32)"
      ]
     },
     "execution_count": 12,
     "metadata": {},
     "output_type": "execute_result"
    }
   ],
   "source": [
    "tf.nn.softmax(predictions).numpy()\n",
    "# It is possible to bake the tf.nn.softmax function into the activation function for the last layer of the network.\n",
    "# While this can make the model output more directly interpretable, \n",
    "# this approach is discouraged as it's impossible to provide an exact and numerically stable loss calculation\n",
    "# for all models when using a softmax output."
   ]
  },
  {
   "cell_type": "code",
   "execution_count": 13,
   "id": "fa67c278",
   "metadata": {},
   "outputs": [],
   "source": [
    "loss_fn = tf.keras.losses.SparseCategoricalCrossentropy(from_logits=True)"
   ]
  },
  {
   "cell_type": "code",
   "execution_count": 14,
   "id": "b8c52900",
   "metadata": {},
   "outputs": [
    {
     "data": {
      "text/plain": [
       "1.8954135"
      ]
     },
     "execution_count": 14,
     "metadata": {},
     "output_type": "execute_result"
    }
   ],
   "source": [
    "loss_fn(y_train[:1], predictions).numpy()"
   ]
  },
  {
   "cell_type": "code",
   "execution_count": 15,
   "id": "c90a478b",
   "metadata": {},
   "outputs": [],
   "source": [
    "model.compile(optimizer='adam',\n",
    "              loss=loss_fn,\n",
    "              metrics=['accuracy'])"
   ]
  },
  {
   "cell_type": "code",
   "execution_count": 18,
   "id": "c57572aa",
   "metadata": {},
   "outputs": [
    {
     "name": "stdout",
     "output_type": "stream",
     "text": [
      "Epoch 1/5\n",
      "1875/1875 [==============================] - 7s 4ms/step - loss: 0.0374 - accuracy: 0.9875\n",
      "Epoch 2/5\n",
      "1875/1875 [==============================] - 7s 4ms/step - loss: 0.0327 - accuracy: 0.9891\n",
      "Epoch 3/5\n",
      "1875/1875 [==============================] - 7s 4ms/step - loss: 0.0303 - accuracy: 0.9901\n",
      "Epoch 4/5\n",
      "1875/1875 [==============================] - 7s 4ms/step - loss: 0.0299 - accuracy: 0.9901\n",
      "Epoch 5/5\n",
      "1875/1875 [==============================] - 7s 4ms/step - loss: 0.0283 - accuracy: 0.9901\n"
     ]
    },
    {
     "data": {
      "text/plain": [
       "<keras.callbacks.History at 0x17732b250>"
      ]
     },
     "execution_count": 18,
     "metadata": {},
     "output_type": "execute_result"
    }
   ],
   "source": [
    "model.fit(x_train, y_train, epochs=5)"
   ]
  },
  {
   "cell_type": "code",
   "execution_count": 20,
   "id": "6fb4114a",
   "metadata": {},
   "outputs": [
    {
     "name": "stdout",
     "output_type": "stream",
     "text": [
      "313/313 - 1s - loss: 0.0717 - accuracy: 0.9809 - 792ms/epoch - 3ms/step\n"
     ]
    },
    {
     "data": {
      "text/plain": [
       "[0.0716969296336174, 0.9809000492095947]"
      ]
     },
     "execution_count": 20,
     "metadata": {},
     "output_type": "execute_result"
    }
   ],
   "source": [
    "model.evaluate(x_test,  y_test, verbose=2)"
   ]
  },
  {
   "cell_type": "code",
   "execution_count": 21,
   "id": "a79efc73",
   "metadata": {},
   "outputs": [],
   "source": [
    "probability_model = tf.keras.Sequential([\n",
    "  model,\n",
    "  tf.keras.layers.Softmax()\n",
    "])"
   ]
  },
  {
   "cell_type": "code",
   "execution_count": 22,
   "id": "1a379d1b",
   "metadata": {},
   "outputs": [
    {
     "data": {
      "text/plain": [
       "<tf.Tensor: shape=(5, 10), dtype=float32, numpy=\n",
       "array([[1.3507220e-09, 9.3451157e-11, 2.6196141e-09, 2.2272539e-05,\n",
       "        6.5496775e-14, 5.0740288e-09, 1.1955998e-18, 9.9996901e-01,\n",
       "        6.8232535e-09, 8.6482660e-06],\n",
       "       [2.6750434e-17, 7.7349988e-08, 9.9999988e-01, 5.2454621e-11,\n",
       "        7.3881126e-26, 4.3106146e-13, 1.7073465e-14, 4.0051584e-26,\n",
       "        3.9312997e-09, 1.1389389e-25],\n",
       "       [1.8322761e-12, 9.9997485e-01, 7.2841353e-06, 2.1803155e-08,\n",
       "        2.3821721e-07, 2.4712339e-09, 1.3295383e-07, 4.3028871e-07,\n",
       "        1.7015705e-05, 9.9590378e-11],\n",
       "       [9.9998701e-01, 4.8689631e-15, 1.3056052e-07, 5.7864625e-12,\n",
       "        1.0140113e-08, 4.1623513e-10, 1.0673426e-05, 1.5461067e-07,\n",
       "        8.2109597e-11, 2.0435682e-06],\n",
       "       [2.2993037e-08, 9.7150586e-13, 6.5498007e-08, 2.3505285e-11,\n",
       "        9.9626547e-01, 1.7361520e-11, 9.9751263e-10, 6.0233011e-05,\n",
       "        7.4976345e-11, 3.6742166e-03]], dtype=float32)>"
      ]
     },
     "execution_count": 22,
     "metadata": {},
     "output_type": "execute_result"
    }
   ],
   "source": [
    "probability_model(x_test[:5])"
   ]
  },
  {
   "cell_type": "code",
   "execution_count": null,
   "id": "f4875adc",
   "metadata": {},
   "outputs": [],
   "source": []
  }
 ],
 "metadata": {
  "kernelspec": {
   "display_name": "Python 3.8.11 (tensorflow)",
   "language": "python",
   "name": "tensorflow"
  },
  "language_info": {
   "codemirror_mode": {
    "name": "ipython",
    "version": 3
   },
   "file_extension": ".py",
   "mimetype": "text/x-python",
   "name": "python",
   "nbconvert_exporter": "python",
   "pygments_lexer": "ipython3",
   "version": "3.8.11"
  }
 },
 "nbformat": 4,
 "nbformat_minor": 5
}
