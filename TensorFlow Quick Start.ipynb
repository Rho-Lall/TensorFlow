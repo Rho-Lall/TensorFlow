{
 "cells": [
  {
   "cell_type": "code",
   "execution_count": 11,
   "id": "8977a126",
   "metadata": {},
   "outputs": [
    {
     "name": "stdout",
     "output_type": "stream",
     "text": [
      "Tensor Flow Version: 2.8.0\n",
      "Kerkas Version: 2.8.0\n",
      "\n",
      "Python 3.8.11 (default, Aug 16 2021, 12:04:33) \n",
      "[Clang 12.0.0 ]\n",
      "Scikit-Learn 1.0.2\n",
      "GPU is  available\n",
      "[PhysicalDevice(name='/physical_device:CPU:0', device_type='CPU'), PhysicalDevice(name='/physical_device:GPU:0', device_type='GPU')]\n"
     ]
    }
   ],
   "source": [
    "import sys\n",
    "\n",
    "import numpy as np\n",
    "import pandas as pd\n",
    "import sklearn as sk\n",
    "import tensorflow.keras as keras\n",
    "import tensorflow as tf\n",
    "import matplotlib.pyplot as plt\n",
    "\n",
    "# See versions\n",
    "print(f\"Tensor Flow Version: {tf.__version__}\")\n",
    "print(f\"Kerkas Version: {tensorflow.keras.__version__}\")\n",
    "print()\n",
    "print(f\"Python {sys.version}\")\n",
    "print(f\"Scikit-Learn {sk.__version__}\")\n",
    "\n",
    "# Check for TensorFlow GPU access\n",
    "gpu = len(tf.config.list_physical_devices('GPU'))>0\n",
    "print(\"GPU is \", \"available\" if gpu else \"NOT AVAIALBLE\")\n",
    "print(tf.config.list_physical_devices())"
   ]
  },
  {
   "cell_type": "code",
   "execution_count": 2,
   "id": "6d6f36a1",
   "metadata": {},
   "outputs": [],
   "source": [
    "mnist = tf.keras.datasets.mnist\n",
    "\n",
    "(x_train, y_train), (x_test, y_test) = mnist.load_data()\n",
    "x_train, x_test = x_train / 255.0, x_test / 255.0"
   ]
  },
  {
   "cell_type": "code",
   "execution_count": 4,
   "id": "80313734",
   "metadata": {},
   "outputs": [],
   "source": [
    "model = tf.keras.models.Sequential([\n",
    "  tf.keras.layers.Flatten(input_shape=(28, 28)),\n",
    "  tf.keras.layers.Dense(128, activation='relu'),\n",
    "  tf.keras.layers.Dropout(0.2),\n",
    "  tf.keras.layers.Dense(10)\n",
    "])"
   ]
  },
  {
   "cell_type": "code",
   "execution_count": 5,
   "id": "af359cd0",
   "metadata": {},
   "outputs": [
    {
     "data": {
      "text/plain": [
       "array([[-0.17304026, -0.04146215,  0.10433082, -0.36331773, -0.45270163,\n",
       "         0.01394668,  0.12811029,  0.24022567, -0.6851184 , -0.3476092 ]],\n",
       "      dtype=float32)"
      ]
     },
     "execution_count": 5,
     "metadata": {},
     "output_type": "execute_result"
    }
   ],
   "source": [
    "predictions = model(x_train[:1]).numpy()\n",
    "predictions"
   ]
  },
  {
   "cell_type": "code",
   "execution_count": 6,
   "id": "d5b4a6e1",
   "metadata": {},
   "outputs": [
    {
     "data": {
      "text/plain": [
       "array([[0.09477872, 0.10810717, 0.12507531, 0.07835639, 0.07165648,\n",
       "        0.11426633, 0.12808518, 0.14328146, 0.05679605, 0.07959697]],\n",
       "      dtype=float32)"
      ]
     },
     "execution_count": 6,
     "metadata": {},
     "output_type": "execute_result"
    }
   ],
   "source": [
    "tf.nn.softmax(predictions).numpy()\n",
    "# It is possible to bake the tf.nn.softmax function into the activation function for the last layer of the network.\n",
    "# While this can make the model output more directly interpretable, \n",
    "# this approach is discouraged as it's impossible to provide an exact and numerically stable loss calculation\n",
    "# for all models when using a softmax output."
   ]
  },
  {
   "cell_type": "code",
   "execution_count": 7,
   "id": "fa67c278",
   "metadata": {},
   "outputs": [],
   "source": [
    "loss_fn = tf.keras.losses.SparseCategoricalCrossentropy(from_logits=True)"
   ]
  },
  {
   "cell_type": "code",
   "execution_count": 8,
   "id": "b8c52900",
   "metadata": {},
   "outputs": [
    {
     "data": {
      "text/plain": [
       "2.1692233"
      ]
     },
     "execution_count": 8,
     "metadata": {},
     "output_type": "execute_result"
    }
   ],
   "source": [
    "loss_fn(y_train[:1], predictions).numpy()"
   ]
  },
  {
   "cell_type": "code",
   "execution_count": 9,
   "id": "c90a478b",
   "metadata": {},
   "outputs": [],
   "source": [
    "model.compile(optimizer='adam',\n",
    "              loss=loss_fn,\n",
    "              metrics=['accuracy'])"
   ]
  },
  {
   "cell_type": "code",
   "execution_count": 17,
   "id": "ab4d2c54",
   "metadata": {},
   "outputs": [],
   "source": [
    "callbacks = [\n",
    "    keras.callbacks.EarlyStopping(\n",
    "        # Stop training when `val_loss` is no longer improving\n",
    "        monitor=\"accuracy\",\n",
    "        # \"no longer improving\" being defined as \"no better than 1e-2 less\"\n",
    "        min_delta=1e-3,\n",
    "        # \"no longer improving\" being further defined as \"for at least 2 epochs\"\n",
    "        patience=3,\n",
    "        verbose=1,\n",
    "    )\n",
    "]"
   ]
  },
  {
   "cell_type": "code",
   "execution_count": 18,
   "id": "c57572aa",
   "metadata": {},
   "outputs": [
    {
     "name": "stdout",
     "output_type": "stream",
     "text": [
      "Epoch 1/20\n",
      "1500/1500 [==============================] - 6s 4ms/step - loss: 0.0388 - accuracy: 0.9875 - val_loss: 0.0469 - val_accuracy: 0.9853\n",
      "Epoch 2/20\n",
      "1500/1500 [==============================] - 6s 4ms/step - loss: 0.0351 - accuracy: 0.9885 - val_loss: 0.0536 - val_accuracy: 0.9827\n",
      "Epoch 3/20\n",
      "1500/1500 [==============================] - 6s 4ms/step - loss: 0.0342 - accuracy: 0.9884 - val_loss: 0.0581 - val_accuracy: 0.9832\n",
      "Epoch 4/20\n",
      "1500/1500 [==============================] - 6s 4ms/step - loss: 0.0298 - accuracy: 0.9901 - val_loss: 0.0554 - val_accuracy: 0.9849\n",
      "Epoch 5/20\n",
      "1500/1500 [==============================] - 6s 4ms/step - loss: 0.0262 - accuracy: 0.9910 - val_loss: 0.0594 - val_accuracy: 0.9822\n",
      "Epoch 6/20\n",
      "1500/1500 [==============================] - 6s 4ms/step - loss: 0.0264 - accuracy: 0.9912 - val_loss: 0.0560 - val_accuracy: 0.9839\n",
      "Epoch 7/20\n",
      "1500/1500 [==============================] - 6s 4ms/step - loss: 0.0241 - accuracy: 0.9917 - val_loss: 0.0534 - val_accuracy: 0.9840\n",
      "Epoch 8/20\n",
      "1500/1500 [==============================] - 7s 4ms/step - loss: 0.0229 - accuracy: 0.9924 - val_loss: 0.0608 - val_accuracy: 0.9827\n",
      "Epoch 9/20\n",
      "1500/1500 [==============================] - 6s 4ms/step - loss: 0.0212 - accuracy: 0.9929 - val_loss: 0.0692 - val_accuracy: 0.9808\n",
      "Epoch 10/20\n",
      "1500/1500 [==============================] - 6s 4ms/step - loss: 0.0217 - accuracy: 0.9926 - val_loss: 0.0699 - val_accuracy: 0.9798\n",
      "Epoch 11/20\n",
      "1500/1500 [==============================] - 6s 4ms/step - loss: 0.0187 - accuracy: 0.9937 - val_loss: 0.0655 - val_accuracy: 0.9819\n",
      "Epoch 12/20\n",
      "1500/1500 [==============================] - 6s 4ms/step - loss: 0.0195 - accuracy: 0.9928 - val_loss: 0.0656 - val_accuracy: 0.9833\n",
      "Epoch 13/20\n",
      "1500/1500 [==============================] - 6s 4ms/step - loss: 0.0183 - accuracy: 0.9936 - val_loss: 0.0695 - val_accuracy: 0.9813\n",
      "Epoch 14/20\n",
      "1500/1500 [==============================] - 6s 4ms/step - loss: 0.0174 - accuracy: 0.9938 - val_loss: 0.0695 - val_accuracy: 0.9830\n",
      "Epoch 14: early stopping\n"
     ]
    },
    {
     "data": {
      "text/plain": [
       "<keras.callbacks.History at 0x2b5d19b20>"
      ]
     },
     "execution_count": 18,
     "metadata": {},
     "output_type": "execute_result"
    }
   ],
   "source": [
    "model.fit(\n",
    "    x_train, \n",
    "    y_train, \n",
    "    epochs=20,\n",
    "    callbacks=callbacks,\n",
    "    validation_split=0.2\n",
    "    \n",
    ")"
   ]
  },
  {
   "cell_type": "code",
   "execution_count": 19,
   "id": "6fb4114a",
   "metadata": {},
   "outputs": [
    {
     "name": "stderr",
     "output_type": "stream",
     "text": [
      "2022-03-20 20:44:32.150339: I tensorflow/core/grappler/optimizers/custom_graph_optimizer_registry.cc:113] Plugin optimizer for device_type GPU is enabled.\n"
     ]
    },
    {
     "name": "stdout",
     "output_type": "stream",
     "text": [
      "313/313 - 1s - loss: 0.0880 - accuracy: 0.9804 - 894ms/epoch - 3ms/step\n"
     ]
    },
    {
     "data": {
      "text/plain": [
       "[0.08796381950378418, 0.980400025844574]"
      ]
     },
     "execution_count": 19,
     "metadata": {},
     "output_type": "execute_result"
    }
   ],
   "source": [
    "model.evaluate(x_test,  y_test, verbose=2)"
   ]
  },
  {
   "cell_type": "code",
   "execution_count": 20,
   "id": "a79efc73",
   "metadata": {},
   "outputs": [],
   "source": [
    "probability_model = tf.keras.Sequential([\n",
    "  model,\n",
    "  tf.keras.layers.Softmax()\n",
    "])"
   ]
  },
  {
   "cell_type": "code",
   "execution_count": 21,
   "id": "1a379d1b",
   "metadata": {},
   "outputs": [
    {
     "data": {
      "text/plain": [
       "<tf.Tensor: shape=(5, 10), dtype=float32, numpy=\n",
       "array([[1.2004799e-14, 1.4932239e-14, 2.5587585e-10, 3.7690168e-07,\n",
       "        1.3603591e-19, 1.2230213e-13, 4.3756356e-21, 9.9999964e-01,\n",
       "        9.1751595e-13, 2.7342537e-09],\n",
       "       [2.8115333e-20, 4.6236637e-10, 1.0000000e+00, 8.5046512e-15,\n",
       "        2.3848027e-28, 3.9528783e-16, 5.2824188e-19, 8.5493540e-26,\n",
       "        3.9238191e-15, 1.5467295e-28],\n",
       "       [6.7147290e-12, 9.9997532e-01, 3.3595036e-06, 1.3989714e-08,\n",
       "        6.0108036e-08, 1.3805742e-11, 9.0426377e-09, 1.6558855e-06,\n",
       "        1.9525631e-05, 5.2123448e-11],\n",
       "       [1.0000000e+00, 7.0407287e-20, 7.0787398e-09, 1.0939377e-11,\n",
       "        1.9954743e-14, 3.1143931e-12, 2.5756344e-09, 7.0243620e-12,\n",
       "        8.9033205e-14, 1.4286011e-10],\n",
       "       [1.7995109e-09, 6.1944757e-17, 3.3476373e-09, 3.2274181e-13,\n",
       "        9.9997723e-01, 8.7726414e-13, 3.8382915e-11, 8.2459621e-08,\n",
       "        4.9505958e-11, 2.2707010e-05]], dtype=float32)>"
      ]
     },
     "execution_count": 21,
     "metadata": {},
     "output_type": "execute_result"
    }
   ],
   "source": [
    "probability_model(x_test[:5])"
   ]
  },
  {
   "cell_type": "code",
   "execution_count": null,
   "id": "f4875adc",
   "metadata": {},
   "outputs": [],
   "source": []
  }
 ],
 "metadata": {
  "kernelspec": {
   "display_name": "Python 3.8 (tensorflow)",
   "language": "python",
   "name": "tensorflow"
  },
  "language_info": {
   "codemirror_mode": {
    "name": "ipython",
    "version": 3
   },
   "file_extension": ".py",
   "mimetype": "text/x-python",
   "name": "python",
   "nbconvert_exporter": "python",
   "pygments_lexer": "ipython3",
   "version": "3.8.11"
  }
 },
 "nbformat": 4,
 "nbformat_minor": 5
}
