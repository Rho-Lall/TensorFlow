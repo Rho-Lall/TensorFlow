{
 "cells": [
  {
   "cell_type": "markdown",
   "id": "2b735cda",
   "metadata": {},
   "source": [
    "# Binary Classification. UCI Sentiment Labelled Sentences II"
   ]
  },
  {
   "cell_type": "code",
   "execution_count": null,
   "id": "c43b830e",
   "metadata": {},
   "outputs": [],
   "source": [
    "# TensorFlow and tf.keras\n",
    "import tensorflow as tf\n",
    "from keras.preprocessing.text import Tokenizer\n",
    "from keras.preprocessing.sequence import pad_sequences\n",
    "from keras.callbacks import EarlyStopping\n",
    "\n",
    "# Helper libraries\n",
    "import numpy as np\n",
    "import matplotlib.pyplot as plt\n",
    "import pandas as pd\n",
    "import os\n",
    "import sklearn\n",
    "\n",
    "import re\n",
    "import nltk\n",
    "nltk.download('punkt')\n",
    "nltk.download('omw-1.4')\n",
    "from nltk.corpus import stopwords\n",
    "\n",
    "print(f\"Tensor Flow Version: {tf.__version__}\")\n",
    "gpu = len(tf.config.list_physical_devices('GPU'))>0\n",
    "print(\"GPU is\", \"available.\" if gpu else \"NOT AVAIALBLE!!!\")\n",
    "print(tf.config.list_physical_devices())"
   ]
  },
  {
   "cell_type": "markdown",
   "id": "15fa244f",
   "metadata": {},
   "source": [
    "# II Data Preparation\n",
    "\n",
    "### Read the Data in."
   ]
  },
  {
   "cell_type": "code",
   "execution_count": null,
   "id": "7c0f9510",
   "metadata": {},
   "outputs": [],
   "source": [
    "colnames = ['review','is_positive']\n",
    "raw = pd.read_csv('../data/uci_sentiment_lablelled_sentences/imdb_labelled.txt', sep=\" \\t\", lineterminator=\"\\n\", names=colnames, engine='python', header=None)\n",
    "raw\n",
    "\n",
    "#engine='python' : The default 'c'- engine considers my sep value regex and will not parse it. "
   ]
  },
  {
   "cell_type": "markdown",
   "id": "cb078605",
   "metadata": {},
   "source": [
    "### Exploratory Data Analysis [B1-2] "
   ]
  },
  {
   "cell_type": "code",
   "execution_count": null,
   "id": "74039a76",
   "metadata": {},
   "outputs": [],
   "source": [
    "# Unusual Character Discovery\n",
    "\n",
    "reviews = raw.review\n",
    "character_list = []\n",
    "for review in reviews:\n",
    "    for character in review:\n",
    "        if character not in character_list:\n",
    "            character_list.append(character)\n",
    "\n",
    "print(character_list)"
   ]
  },
  {
   "cell_type": "code",
   "execution_count": null,
   "id": "ca7af0c8",
   "metadata": {},
   "outputs": [],
   "source": [
    "review_list = []\n",
    "stop_words = stopwords.words('english')\n",
    "lemma = nltk.WordNetLemmatizer()\n",
    "\n",
    "for description in raw.review:\n",
    "    description = re.sub(\"[^a-zA-Z0-9]\",\" \",description)\n",
    "    description = description.lower()\n",
    "    description = nltk.word_tokenize(description)\n",
    "    description = [lemma.lemmatize(word) for word in description]\n",
    "    review_list.append(description)"
   ]
  },
  {
   "cell_type": "code",
   "execution_count": null,
   "id": "12575bdb",
   "metadata": {},
   "outputs": [],
   "source": [
    "#embedding length\n",
    "\n",
    "review_length = []\n",
    "\n",
    "for review in review_list:\n",
    "    review_length.append(len(review))\n",
    "\n",
    "plt.hist(review_length, bins = [0,20,40,60,80,100]) "
   ]
  },
  {
   "cell_type": "code",
   "execution_count": null,
   "id": "108f0568",
   "metadata": {},
   "outputs": [],
   "source": [
    "# vocabuary size\n",
    "vocabulary = []\n",
    "\n",
    "for review in review_list:\n",
    "    for word in review:\n",
    "        if word not in vocabulary:\n",
    "            vocabulary.append(word)\n",
    "            \n",
    "len(vocabulary)"
   ]
  },
  {
   "cell_type": "markdown",
   "id": "efb7fda4",
   "metadata": {},
   "source": [
    "### Tokenization"
   ]
  },
  {
   "cell_type": "code",
   "execution_count": null,
   "id": "b6712008",
   "metadata": {},
   "outputs": [],
   "source": [
    "keras_token = Tokenizer(oov_token = '[UNK]', lower=True)\n",
    "keras_token.fit_on_texts(review_list)\n",
    "word_count = keras_token.word_index\n",
    "\n",
    "vocab_size = len(word_count)+1\n",
    "\n",
    "print(\"Size of vocab:\", len(word_count)+1)\n",
    "list(word_count.items())[42:47]"
   ]
  },
  {
   "cell_type": "code",
   "execution_count": null,
   "id": "bf2f64dd",
   "metadata": {},
   "outputs": [],
   "source": [
    "embedding_dim = len(review_list)\n",
    "embedding_dim"
   ]
  },
  {
   "cell_type": "markdown",
   "id": "d0896a9e",
   "metadata": {},
   "source": [
    "### Padding Process [B3]"
   ]
  },
  {
   "cell_type": "code",
   "execution_count": null,
   "id": "22b1b274",
   "metadata": {},
   "outputs": [],
   "source": [
    "sequence_train = keras_token.texts_to_sequences(review_list)\n",
    "padded_train = pad_sequences(sequence_train,maxlen=100, padding='post', truncating='post')\n",
    "padded_train.shape"
   ]
  },
  {
   "cell_type": "code",
   "execution_count": null,
   "id": "12ec6034",
   "metadata": {},
   "outputs": [],
   "source": [
    "padded_train[0]"
   ]
  },
  {
   "cell_type": "markdown",
   "id": "9fe0459b",
   "metadata": {},
   "source": [
    "### [B5] Preparation for Analysis. (Train Validation Test Split)"
   ]
  },
  {
   "cell_type": "code",
   "execution_count": null,
   "id": "ae16f313",
   "metadata": {},
   "outputs": [],
   "source": [
    "X = np.array(padded_train)\n",
    "y = raw.is_positive.values\n",
    "\n",
    "\n",
    "from sklearn.model_selection import train_test_split\n",
    "X_train, X_test, y_train, y_test = train_test_split(X, y, test_size=0.25, random_state=15, stratify=y)\n",
    "\n",
    "y_train = pd.Series(y_train)\n",
    "y_test = pd.Series(y_test)\n",
    "\n",
    "#view the training and testing sizes\n",
    "print(\"Training Set Size: \", X_train.shape)\n",
    "print(\"Testing Set Size: \", X_test.shape)"
   ]
  },
  {
   "cell_type": "code",
   "execution_count": null,
   "id": "0931c89d",
   "metadata": {},
   "outputs": [],
   "source": [
    "# [B6] Export Datasets\n",
    "\n",
    "X_training_df = pd.DataFrame(X_train)\n",
    "X_testing_df = pd.DataFrame(X_test)\n",
    "y_training_df = pd.DataFrame(y_train)\n",
    "y_testing_df = pd.DataFrame(y_test)\n",
    "\n",
    "X_training_df.to_csv('X_training.csv')\n",
    "X_testing_df.to_csv('X_testing.csv')\n",
    "y_training_df.to_csv('y_training.csv')\n",
    "y_testing_df.to_csv('y_testing.csv')"
   ]
  },
  {
   "cell_type": "code",
   "execution_count": null,
   "id": "52bd9a60",
   "metadata": {},
   "outputs": [],
   "source": []
  },
  {
   "cell_type": "markdown",
   "id": "a04f7bca",
   "metadata": {},
   "source": [
    "# III Network Architecture"
   ]
  },
  {
   "cell_type": "code",
   "execution_count": null,
   "id": "35111a7d",
   "metadata": {},
   "outputs": [],
   "source": [
    "activation = 'softmax'\n",
    "loss = 'categorical_crossentropy'\n",
    "optimizer = 'adam'\n",
    "num_epochs = 20\n",
    "\n",
    "early_stopping_monitor = EarlyStopping(patience=3)\n",
    "\n",
    "model = tf.keras.Sequential([\n",
    "    tf.keras.layers.Embedding(vocab_size, embedding_dim, input_length=100),\n",
    "    tf.keras.layers.GlobalAveragePooling1D(),\n",
    "    tf.keras.layers.Dense(100,activation='relu'),\n",
    "    tf.keras.layers.Dense(50,activation='relu'),\n",
    "    tf.keras.layers.Dense(1,activation=activation)\n",
    "    \n",
    "])\n",
    "\n",
    "model.compile(loss=loss, optimizer=optimizer, metrics=['accuracy'])\n"
   ]
  },
  {
   "cell_type": "code",
   "execution_count": null,
   "id": "42204ecc",
   "metadata": {},
   "outputs": [],
   "source": [
    "model.summary()"
   ]
  },
  {
   "cell_type": "code",
   "execution_count": 78,
   "id": "a4d227fa",
   "metadata": {},
   "outputs": [
    {
     "name": "stdout",
     "output_type": "stream",
     "text": [
      "Epoch 1/20\n",
      "16/16 [==============================] - 1s 40ms/step - loss: 0.0000e+00 - accuracy: 0.4960 - val_loss: 0.0000e+00 - val_accuracy: 0.5081\n",
      "Epoch 2/20\n",
      "16/16 [==============================] - 1s 38ms/step - loss: 0.0000e+00 - accuracy: 0.4960 - val_loss: 0.0000e+00 - val_accuracy: 0.5081\n",
      "Epoch 3/20\n",
      "16/16 [==============================] - 1s 39ms/step - loss: 0.0000e+00 - accuracy: 0.4960 - val_loss: 0.0000e+00 - val_accuracy: 0.5081\n"
     ]
    }
   ],
   "source": [
    "history = model.fit(X_train, \n",
    "                    y_train, \n",
    "                    batch_size=32, \n",
    "                    epochs=num_epochs, \n",
    "                    validation_split=0.33, \n",
    "                    callbacks=[early_stopping_monitor],\n",
    "                    verbose=True\n",
    "                   )"
   ]
  },
  {
   "cell_type": "markdown",
   "id": "5713e7d0",
   "metadata": {},
   "source": [
    "# IV Model Evaluation"
   ]
  },
  {
   "cell_type": "code",
   "execution_count": 81,
   "id": "19af709f",
   "metadata": {},
   "outputs": [
    {
     "data": {
      "image/png": "[encoded data removed]",
      "text/plain": [
       "<Figure size 432x288 with 1 Axes>"
      ]
     },
     "metadata": {
      "needs_background": "light"
     },
     "output_type": "display_data"
    }
   ],
   "source": [
    "plt.plot(history.history['accuracy'])\n",
    "plt.title('Model Accuracy')\n",
    "plt.ylabel('Accuracy Score')\n",
    "plt.xlabel('# Epochs')\n",
    "plt.legend(['Training'], loc='upper left')\n",
    "plt.show()"
   ]
  },
  {
   "cell_type": "code",
   "execution_count": 82,
   "id": "ce077f1d",
   "metadata": {},
   "outputs": [
    {
     "data": {
      "image/png": "[encoded data removed]",
      "text/plain": [
       "<Figure size 432x288 with 1 Axes>"
      ]
     },
     "metadata": {
      "needs_background": "light"
     },
     "output_type": "display_data"
    }
   ],
   "source": [
    "plt.plot(history.history['loss'])\n",
    "plt.title('Model Loss')\n",
    "plt.ylabel('Loss Score')\n",
    "plt.xlabel('# Epochs')\n",
    "plt.legend(['Training'], loc='upper left')\n",
    "plt.show()"
   ]
  }
 ],
 "metadata": {
  "kernelspec": {
   "display_name": "Python 3.8 (tensorflow)",
   "language": "python",
   "name": "tensorflow"
  },
  "language_info": {
   "codemirror_mode": {
    "name": "ipython",
    "version": 3
   },
   "file_extension": ".py",
   "mimetype": "text/x-python",
   "name": "python",
   "nbconvert_exporter": "python",
   "pygments_lexer": "ipython3",
   "version": "3.8.11"
  }
 },
 "nbformat": 4,
 "nbformat_minor": 5
}
